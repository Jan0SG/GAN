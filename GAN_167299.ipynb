{
  "nbformat": 4,
  "nbformat_minor": 0,
  "metadata": {
    "colab": {
      "provenance": []
    },
    "kernelspec": {
      "name": "python3",
      "display_name": "Python 3"
    },
    "language_info": {
      "name": "python"
    },
    "gpuClass": "standard",
    "accelerator": "GPU"
  },
  "cells": [
    {
      "cell_type": "code",
      "execution_count": null,
      "metadata": {
        "id": "h-g3mKXF_ofx"
      },
      "outputs": [],
      "source": [
        "import tensorflow as tf\n",
        "from tensorflow.keras.layers import Input, Reshape, Dropout, Dense \n",
        "from tensorflow.keras.layers import Flatten, BatchNormalization\n",
        "from tensorflow.keras.layers import Activation, ZeroPadding2D\n",
        "from tensorflow.keras.layers import LeakyReLU\n",
        "from tensorflow.keras.layers import UpSampling2D, Conv2D\n",
        "from tensorflow.keras.models import Sequential, Model, load_model\n",
        "from tensorflow.keras.optimizers import Adam\n",
        "import numpy as np\n",
        "from PIL import Image\n",
        "from tqdm import tqdm\n",
        "import os \n",
        "import time\n",
        "import matplotlib.pyplot as plt"
      ]
    },
    {
      "cell_type": "code",
      "source": [
        "# Nicely formatted time string\n",
        "def hms_string(sec_elapsed):\n",
        "    h = int(sec_elapsed / (60 * 60))\n",
        "    m = int((sec_elapsed % (60 * 60)) / 60)\n",
        "    s = sec_elapsed % 60\n",
        "    return \"{}:{:>02}:{:>05.2f}\".format(h, m, s)"
      ],
      "metadata": {
        "id": "_S9jIuy5_xYg"
      },
      "execution_count": null,
      "outputs": []
    },
    {
      "cell_type": "code",
      "source": [
        "try:\n",
        "    from google.colab import drive\n",
        "    drive.mount('/content/drive/', force_remount=True)\n",
        "    COLAB = True\n",
        "    print(\"Note: using Google CoLab\")\n",
        "   # %tensorflow_version 2.x\n",
        "except:\n",
        "    print(\"Note: not using Google CoLab\")\n",
        "    COLAB = False"
      ],
      "metadata": {
        "colab": {
          "base_uri": "https://localhost:8080/"
        },
        "id": "NqN3LpVo_xbG",
        "outputId": "f88e5898-4f2c-44d5-f4a5-638888c3ac6e"
      },
      "execution_count": null,
      "outputs": [
        {
          "output_type": "stream",
          "name": "stdout",
          "text": [
            "Mounted at /content/drive/\n",
            "Note: using Google CoLab\n"
          ]
        }
      ]
    },
    {
      "cell_type": "code",
      "source": [
        "# Generation resolution - Must be square \n",
        "# Training data is also scaled to this.\n",
        "# Note GENERATE_RES 4 or higher  \n",
        "# will blow Google CoLab's memory and have not\n",
        "# been tested extensivly.\n",
        "GENERATE_RES = 3 # Generation resolution factor \n",
        "# (1=32, 2=64, 3=96, 4=128, etc.)\n",
        "GENERATE_SQUARE = 32 * GENERATE_RES # rows/cols (should be square)\n",
        "IMAGE_CHANNELS = 3\n",
        "\n",
        "# Preview image \n",
        "PREVIEW_ROWS = 4\n",
        "PREVIEW_COLS = 7\n",
        "PREVIEW_MARGIN = 16\n",
        "\n",
        "# Size vector to generate images from\n",
        "SEED_SIZE = 100\n",
        "\n",
        "# Configuration\n",
        "DATA_PATH = '/content/drive/MyDrive/'\n",
        "EPOCHS = 150\n",
        "BATCH_SIZE = 32\n",
        "BUFFER_SIZE = 60000\n",
        "\n",
        "print(f\"Will generate {GENERATE_SQUARE}px square images.\")"
      ],
      "metadata": {
        "colab": {
          "base_uri": "https://localhost:8080/"
        },
        "id": "Jnf4_8zw_xf5",
        "outputId": "50961207-7a7b-4e29-aea4-3034e97ba4f4"
      },
      "execution_count": null,
      "outputs": [
        {
          "output_type": "stream",
          "name": "stdout",
          "text": [
            "Will generate 96px square images.\n"
          ]
        }
      ]
    },
    {
      "cell_type": "code",
      "source": [
        "# Image set has 11,682 images.  Can take over an hour \n",
        "# for initial preprocessing.\n",
        "# Because of this time needed, save a Numpy preprocessed file.\n",
        "# Note, that file is large enough to cause problems for \n",
        "# sume verisons of Pickle,\n",
        "# so Numpy binary files are used.\n",
        "\n",
        "\n",
        "\n",
        "training_binary_path = os.path.join(DATA_PATH,\n",
        "        f'training_data_{GENERATE_SQUARE}_{GENERATE_SQUARE}.npy')\n",
        "\n",
        "print(f\"Looking for file: {training_binary_path}\")\n",
        "\n",
        "if not os.path.isfile(training_binary_path):\n",
        "  start = time.time()\n",
        "  print(\"Loading training images...\")\n",
        "\n",
        "  training_data = []\n",
        "  faces_path = os.path.join(DATA_PATH,'Images')\n",
        "  #faces_path = '/content/drive/MyDrive/Images'\n",
        "  for filename in tqdm(os.listdir(faces_path)):\n",
        "      path = os.path.join(faces_path, filename)\n",
        "      image = Image.open(path).resize((GENERATE_SQUARE,\n",
        "            GENERATE_SQUARE),Image.ANTIALIAS)\n",
        "      training_data.append(np.asarray(image))\n",
        "  training_data = np.reshape(training_data,(-1,GENERATE_SQUARE,\n",
        "            GENERATE_SQUARE,IMAGE_CHANNELS))\n",
        "  training_data = training_data.astype(np.float32)\n",
        "  training_data = training_data / 127.5 - 1.\n",
        "\n",
        "\n",
        "  print(\"Saving training image binary...\")\n",
        "  np.save(training_binary_path,training_data)\n",
        "  elapsed = time.time()-start\n",
        "  print (f'Image preprocess time: {hms_string(elapsed)}')\n",
        "else:\n",
        "  print(\"Loading previous training pickle...\")\n",
        "  training_data = np.load(training_binary_path)"
      ],
      "metadata": {
        "colab": {
          "base_uri": "https://localhost:8080/"
        },
        "id": "qynuyN88_xis",
        "outputId": "354f64d8-f390-4d1d-9538-bcf9640451aa"
      },
      "execution_count": null,
      "outputs": [
        {
          "output_type": "stream",
          "name": "stdout",
          "text": [
            "Looking for file: /content/drive/MyDrive/training_data_96_96.npy\n",
            "Loading previous training pickle...\n"
          ]
        }
      ]
    },
    {
      "cell_type": "code",
      "source": [
        "# Batch and shuffle the data\n",
        "train_dataset = tf.data.Dataset.from_tensor_slices(training_data) \\\n",
        "    .shuffle(BUFFER_SIZE).batch(BATCH_SIZE)\n",
        "\n",
        "print(len(training_data))"
      ],
      "metadata": {
        "id": "n6mdziOf_xlO",
        "colab": {
          "base_uri": "https://localhost:8080/"
        },
        "outputId": "083e57b6-0da6-44a5-889d-cccc54161260"
      },
      "execution_count": null,
      "outputs": [
        {
          "output_type": "stream",
          "name": "stdout",
          "text": [
            "8001\n"
          ]
        }
      ]
    },
    {
      "cell_type": "code",
      "source": [
        "def build_generator(seed_size, channels):\n",
        "    model = Sequential()\n",
        "\n",
        "    model.add(Dense(4*4*256,activation=\"relu\",input_dim=seed_size))\n",
        "    model.add(Reshape((4,4,256)))\n",
        "\n",
        "    model.add(UpSampling2D())\n",
        "    model.add(Conv2D(256,kernel_size=3,padding=\"same\"))\n",
        "    model.add(BatchNormalization(momentum=0.8))\n",
        "    model.add(Activation(\"relu\"))\n",
        "\n",
        "    model.add(UpSampling2D())\n",
        "    model.add(Conv2D(256,kernel_size=3,padding=\"same\"))\n",
        "    model.add(BatchNormalization(momentum=0.8))\n",
        "    model.add(Activation(\"relu\"))\n",
        "   \n",
        "    # Output resolution, additional upsampling\n",
        "    model.add(UpSampling2D())\n",
        "    model.add(Conv2D(128,kernel_size=3,padding=\"same\"))\n",
        "    model.add(BatchNormalization(momentum=0.8))\n",
        "    model.add(Activation(\"relu\"))\n",
        "\n",
        "    if GENERATE_RES>1:\n",
        "      model.add(UpSampling2D(size=(GENERATE_RES,GENERATE_RES)))\n",
        "      model.add(Conv2D(128,kernel_size=3,padding=\"same\"))\n",
        "      model.add(BatchNormalization(momentum=0.8))\n",
        "      model.add(Activation(\"relu\"))\n",
        "\n",
        "    # Final CNN layer\n",
        "    model.add(Conv2D(channels,kernel_size=3,padding=\"same\"))\n",
        "    model.add(Activation(\"tanh\"))\n",
        "\n",
        "    return model\n",
        "\n",
        "\n",
        "def build_discriminator(image_shape):\n",
        "    model = Sequential()\n",
        "\n",
        "    model.add(Conv2D(32, kernel_size=3, strides=2, input_shape=image_shape, \n",
        "                     padding=\"same\"))\n",
        "    model.add(LeakyReLU(alpha=0.2))\n",
        "\n",
        "    model.add(Dropout(0.25))\n",
        "    model.add(Conv2D(64, kernel_size=3, strides=2, padding=\"same\"))\n",
        "    model.add(ZeroPadding2D(padding=((0,1),(0,1))))\n",
        "    model.add(BatchNormalization(momentum=0.8))\n",
        "    model.add(LeakyReLU(alpha=0.2))\n",
        "\n",
        "    model.add(Dropout(0.25))\n",
        "    model.add(Conv2D(128, kernel_size=3, strides=2, padding=\"same\"))\n",
        "    model.add(BatchNormalization(momentum=0.8))\n",
        "    model.add(LeakyReLU(alpha=0.2))\n",
        "\n",
        "    model.add(Dropout(0.25))\n",
        "    model.add(Conv2D(256, kernel_size=3, strides=1, padding=\"same\"))\n",
        "    model.add(BatchNormalization(momentum=0.8))\n",
        "    model.add(LeakyReLU(alpha=0.2))\n",
        "\n",
        "    model.add(Dropout(0.25))\n",
        "    model.add(Conv2D(512, kernel_size=3, strides=1, padding=\"same\"))\n",
        "    model.add(BatchNormalization(momentum=0.8))\n",
        "    model.add(LeakyReLU(alpha=0.2))\n",
        "\n",
        "    model.add(Dropout(0.25))\n",
        "    model.add(Flatten())\n",
        "    model.add(Dense(1, activation='sigmoid'))\n",
        "\n",
        "    return model"
      ],
      "metadata": {
        "id": "1p9Ig2bz_xoC"
      },
      "execution_count": null,
      "outputs": []
    },
    {
      "cell_type": "code",
      "source": [
        "def save_images(cnt,noise):\n",
        "  image_array = np.full(( \n",
        "      PREVIEW_MARGIN + (PREVIEW_ROWS * (GENERATE_SQUARE+PREVIEW_MARGIN)), \n",
        "      PREVIEW_MARGIN + (PREVIEW_COLS * (GENERATE_SQUARE+PREVIEW_MARGIN)), IMAGE_CHANNELS), \n",
        "      255, dtype=np.uint8)\n",
        "  \n",
        "  generated_images = generator.predict(noise)\n",
        "\n",
        "  generated_images = 0.5 * generated_images + 0.5\n",
        "\n",
        "  image_count = 0\n",
        "  for row in range(PREVIEW_ROWS):\n",
        "      for col in range(PREVIEW_COLS):\n",
        "        r = row * (GENERATE_SQUARE+16) + PREVIEW_MARGIN\n",
        "        c = col * (GENERATE_SQUARE+16) + PREVIEW_MARGIN\n",
        "        image_array[r:r+GENERATE_SQUARE,c:c+GENERATE_SQUARE] \\\n",
        "            = generated_images[image_count] * 255\n",
        "        image_count += 1\n",
        "\n",
        "          \n",
        "  output_path = os.path.join(DATA_PATH,'output3')\n",
        "  if not os.path.exists(output_path):\n",
        "    os.makedirs(output_path)\n",
        "  \n",
        "  filename = os.path.join(output_path,f\"train-{cnt}.jpg\")\n",
        "  im = Image.fromarray(image_array)\n",
        "  im.save(filename)\n",
        "\n",
        "  #save_images(cnt, noise)"
      ],
      "metadata": {
        "id": "ji6j48TN_xqi"
      },
      "execution_count": null,
      "outputs": []
    },
    {
      "cell_type": "code",
      "source": [
        "generator = build_generator(SEED_SIZE, IMAGE_CHANNELS)\n",
        "\n",
        "noise = tf.random.normal([1, SEED_SIZE])\n",
        "generated_image = generator(noise, training=False)\n",
        "\n",
        "plt.imshow(generated_image[0, :, :, 0], )\n"
      ],
      "metadata": {
        "id": "Kk1D-DUj_xtU",
        "colab": {
          "base_uri": "https://localhost:8080/",
          "height": 450
        },
        "outputId": "9681af92-61b1-482d-9762-6ccfce2f3513"
      },
      "execution_count": null,
      "outputs": [
        {
          "output_type": "execute_result",
          "data": {
            "text/plain": [
              "<matplotlib.image.AxesImage at 0x7ff84884e460>"
            ]
          },
          "metadata": {},
          "execution_count": 26
        },
        {
          "output_type": "display_data",
          "data": {
            "text/plain": [
              "<Figure size 640x480 with 1 Axes>"
            ],
            "image/png": "[encoded data removed]"
          },
          "metadata": {}
        }
      ]
    },
    {
      "cell_type": "code",
      "source": [
        "image_shape = (GENERATE_SQUARE,GENERATE_SQUARE,IMAGE_CHANNELS)\n",
        "\n",
        "discriminator = build_discriminator(image_shape)\n",
        "decision = discriminator(generated_image)\n",
        "print (decision)"
      ],
      "metadata": {
        "id": "XgEHC3nD_xv-",
        "colab": {
          "base_uri": "https://localhost:8080/"
        },
        "outputId": "1c2740ea-16d4-4ceb-8b94-b5c005272b29"
      },
      "execution_count": null,
      "outputs": [
        {
          "output_type": "stream",
          "name": "stdout",
          "text": [
            "tf.Tensor([[0.5004118]], shape=(1, 1), dtype=float32)\n"
          ]
        }
      ]
    },
    {
      "cell_type": "code",
      "source": [
        "# This method returns a helper function to compute cross entropy loss\n",
        "cross_entropy = tf.keras.losses.BinaryCrossentropy()\n",
        "\n",
        "def discriminator_loss(real_output, fake_output):\n",
        "    real_loss = cross_entropy(tf.ones_like(real_output), real_output)\n",
        "    fake_loss = cross_entropy(tf.zeros_like(fake_output), fake_output)\n",
        "    total_loss = real_loss + fake_loss\n",
        "    return total_loss\n",
        "\n",
        "def generator_loss(fake_output):\n",
        "    return cross_entropy(tf.ones_like(fake_output), fake_output)"
      ],
      "metadata": {
        "id": "V2f-yJvZ_xyd"
      },
      "execution_count": null,
      "outputs": []
    },
    {
      "cell_type": "code",
      "source": [
        "generator_optimizer = tf.keras.optimizers.Adam(1.5e-4,0.00015)\n",
        "discriminator_optimizer = tf.keras.optimizers.Adam(1.5e-4,0.00015)"
      ],
      "metadata": {
        "id": "-GANx_jfAGfy"
      },
      "execution_count": null,
      "outputs": []
    },
    {
      "cell_type": "code",
      "source": [
        "# Notice the use of `tf.function`\n",
        "# This annotation causes the function to be \"compiled\".\n",
        "@tf.function\n",
        "def train_step(images):\n",
        "  seed = tf.random.normal([BATCH_SIZE, SEED_SIZE])\n",
        "\n",
        "  with tf.GradientTape() as gen_tape, tf.GradientTape() as disc_tape:\n",
        "    generated_images = generator(seed, training=True)\n",
        "\n",
        "    real_output = discriminator(images, training=True)\n",
        "    fake_output = discriminator(generated_images, training=True)\n",
        "\n",
        "    gen_loss = generator_loss(fake_output)\n",
        "    disc_loss = discriminator_loss(real_output, fake_output)\n",
        "    \n",
        "\n",
        "    gradients_of_generator = gen_tape.gradient(\\\n",
        "        gen_loss, generator.trainable_variables)\n",
        "    gradients_of_discriminator = disc_tape.gradient(\\\n",
        "        disc_loss, discriminator.trainable_variables)\n",
        "\n",
        "    generator_optimizer.apply_gradients(zip(\n",
        "        gradients_of_generator, generator.trainable_variables))\n",
        "    discriminator_optimizer.apply_gradients(zip(\n",
        "        gradients_of_discriminator, \n",
        "        discriminator.trainable_variables))\n",
        "  return gen_loss,disc_loss"
      ],
      "metadata": {
        "id": "3kzGvIinAGk3"
      },
      "execution_count": null,
      "outputs": []
    },
    {
      "cell_type": "code",
      "source": [
        "def train(dataset, epochs):\n",
        "  fixed_seed = np.random.normal(0, 1, (PREVIEW_ROWS * PREVIEW_COLS, \n",
        "                                       SEED_SIZE))\n",
        "  start = time.time()\n",
        "\n",
        "  for epoch in range(epochs):\n",
        "    epoch_start = time.time()\n",
        "\n",
        "    gen_loss_list = []\n",
        "    disc_loss_list = []\n",
        "\n",
        "    for image_batch in dataset:\n",
        "      t = train_step(image_batch)\n",
        "      gen_loss_list.append(t[0])\n",
        "      disc_loss_list.append(t[1])\n",
        "\n",
        "    g_loss = sum(gen_loss_list) / len(gen_loss_list)\n",
        "    d_loss = sum(disc_loss_list) / len(disc_loss_list)\n",
        "\n",
        "    epoch_elapsed = time.time()-epoch_start\n",
        "    print (f'Epoch {epoch+1}, gen loss={g_loss},disc loss={d_loss},'\\\n",
        "           f' {hms_string(epoch_elapsed)}')\n",
        "    save_images(epoch,fixed_seed)\n",
        "\n",
        "  elapsed = time.time()-start\n",
        "  print (f'Training time: {hms_string(elapsed)}')"
      ],
      "metadata": {
        "id": "vO6tPnKR_x1E"
      },
      "execution_count": null,
      "outputs": []
    },
    {
      "cell_type": "code",
      "source": [
        "train(train_dataset, EPOCHS)"
      ],
      "metadata": {
        "id": "hTvskqU1ALn0",
        "colab": {
          "base_uri": "https://localhost:8080/"
        },
        "outputId": "4c507a68-7a5c-4620-d9c3-78bb96d784e4"
      },
      "execution_count": null,
      "outputs": [
        {
          "output_type": "stream",
          "name": "stdout",
          "text": [
            "Epoch 1, gen loss=2.9871411323547363,disc loss=1.4033292531967163, 0:00:45.77\n",
            "1/1 [==============================] - 0s 317ms/step\n",
            "Epoch 2, gen loss=2.76527738571167,disc loss=1.6245678663253784, 0:00:33.67\n",
            "1/1 [==============================] - 0s 20ms/step\n",
            "Epoch 3, gen loss=2.4417030811309814,disc loss=1.7190721035003662, 0:00:35.51\n",
            "1/1 [==============================] - 0s 19ms/step\n",
            "Epoch 4, gen loss=2.514383554458618,disc loss=1.5352873802185059, 0:00:35.19\n",
            "1/1 [==============================] - 0s 29ms/step\n",
            "Epoch 5, gen loss=2.5775556564331055,disc loss=1.430151343345642, 0:00:35.05\n",
            "1/1 [==============================] - 0s 18ms/step\n",
            "Epoch 6, gen loss=2.5902132987976074,disc loss=1.2493585348129272, 0:00:35.37\n",
            "1/1 [==============================] - 0s 19ms/step\n",
            "Epoch 7, gen loss=2.447765350341797,disc loss=1.2512240409851074, 0:00:35.04\n",
            "1/1 [==============================] - 0s 29ms/step\n",
            "Epoch 8, gen loss=2.528348684310913,disc loss=1.3234641551971436, 0:00:35.08\n",
            "1/1 [==============================] - 0s 18ms/step\n",
            "Epoch 9, gen loss=2.379765272140503,disc loss=1.279809832572937, 0:00:35.20\n",
            "1/1 [==============================] - 0s 20ms/step\n",
            "Epoch 10, gen loss=2.2076516151428223,disc loss=1.1721564531326294, 0:00:35.23\n",
            "1/1 [==============================] - 0s 37ms/step\n",
            "Epoch 11, gen loss=2.421818494796753,disc loss=1.1546909809112549, 0:00:35.19\n",
            "1/1 [==============================] - 0s 20ms/step\n",
            "Epoch 12, gen loss=2.3955025672912598,disc loss=1.0300638675689697, 0:00:35.28\n",
            "1/1 [==============================] - 0s 19ms/step\n",
            "Epoch 13, gen loss=2.2053382396698,disc loss=1.1165589094161987, 0:00:35.30\n",
            "1/1 [==============================] - 0s 29ms/step\n",
            "Epoch 14, gen loss=2.10241436958313,disc loss=1.1320366859436035, 0:00:35.16\n",
            "1/1 [==============================] - 0s 19ms/step\n",
            "Epoch 15, gen loss=2.0502798557281494,disc loss=1.1707606315612793, 0:00:35.19\n",
            "1/1 [==============================] - 0s 18ms/step\n",
            "Epoch 16, gen loss=1.7763808965682983,disc loss=1.188400387763977, 0:00:35.20\n",
            "1/1 [==============================] - 0s 35ms/step\n",
            "Epoch 17, gen loss=1.8787556886672974,disc loss=1.1068048477172852, 0:00:35.29\n",
            "1/1 [==============================] - 0s 19ms/step\n",
            "Epoch 18, gen loss=1.833451747894287,disc loss=1.1696211099624634, 0:00:35.20\n",
            "1/1 [==============================] - 0s 24ms/step\n",
            "Epoch 19, gen loss=1.7382582426071167,disc loss=1.1643706560134888, 0:00:35.20\n",
            "1/1 [==============================] - 0s 30ms/step\n",
            "Epoch 20, gen loss=1.6908262968063354,disc loss=1.1982872486114502, 0:00:35.04\n",
            "1/1 [==============================] - 0s 18ms/step\n",
            "Epoch 21, gen loss=1.664466142654419,disc loss=1.1777400970458984, 0:00:35.01\n",
            "1/1 [==============================] - 0s 18ms/step\n",
            "Epoch 22, gen loss=1.636518120765686,disc loss=1.1639502048492432, 0:00:35.10\n",
            "1/1 [==============================] - 0s 32ms/step\n",
            "Epoch 23, gen loss=1.6494014263153076,disc loss=1.1525864601135254, 0:00:35.08\n",
            "1/1 [==============================] - 0s 19ms/step\n",
            "Epoch 24, gen loss=1.7397624254226685,disc loss=1.1583913564682007, 0:00:35.06\n",
            "1/1 [==============================] - 0s 19ms/step\n",
            "Epoch 25, gen loss=1.610930323600769,disc loss=1.170642614364624, 0:00:35.07\n",
            "1/1 [==============================] - 0s 29ms/step\n",
            "Epoch 26, gen loss=1.6054996252059937,disc loss=1.1753132343292236, 0:00:35.05\n",
            "1/1 [==============================] - 0s 18ms/step\n",
            "Epoch 27, gen loss=1.5138760805130005,disc loss=1.1797446012496948, 0:00:35.05\n",
            "1/1 [==============================] - 0s 17ms/step\n",
            "Epoch 28, gen loss=1.4007161855697632,disc loss=1.2327607870101929, 0:00:35.01\n",
            "1/1 [==============================] - 0s 36ms/step\n",
            "Epoch 29, gen loss=1.6385053396224976,disc loss=1.0951547622680664, 0:00:35.00\n",
            "1/1 [==============================] - 0s 19ms/step\n",
            "Epoch 30, gen loss=1.5878446102142334,disc loss=1.155434250831604, 0:00:34.96\n",
            "1/1 [==============================] - 0s 22ms/step\n",
            "Epoch 31, gen loss=1.6024925708770752,disc loss=1.109958529472351, 0:00:35.08\n",
            "1/1 [==============================] - 0s 28ms/step\n",
            "Epoch 32, gen loss=1.584858775138855,disc loss=1.1025336980819702, 0:00:35.08\n",
            "1/1 [==============================] - 0s 20ms/step\n",
            "Epoch 33, gen loss=1.5771794319152832,disc loss=1.1584399938583374, 0:00:35.12\n",
            "1/1 [==============================] - 0s 18ms/step\n",
            "Epoch 34, gen loss=1.5137473344802856,disc loss=1.1682641506195068, 0:00:35.11\n",
            "1/1 [==============================] - 0s 31ms/step\n",
            "Epoch 35, gen loss=1.6027977466583252,disc loss=1.1184684038162231, 0:00:35.14\n",
            "1/1 [==============================] - 0s 19ms/step\n",
            "Epoch 36, gen loss=1.4404029846191406,disc loss=1.1850056648254395, 0:00:35.12\n",
            "1/1 [==============================] - 0s 18ms/step\n",
            "Epoch 37, gen loss=1.5083273649215698,disc loss=1.1019978523254395, 0:00:35.21\n",
            "1/1 [==============================] - 0s 32ms/step\n",
            "Epoch 38, gen loss=1.5906263589859009,disc loss=1.1118677854537964, 0:00:35.20\n",
            "1/1 [==============================] - 0s 17ms/step\n",
            "Epoch 39, gen loss=1.6434270143508911,disc loss=1.142147183418274, 0:00:35.14\n",
            "1/1 [==============================] - 0s 19ms/step\n",
            "Epoch 40, gen loss=1.5756770372390747,disc loss=1.1083704233169556, 0:00:35.11\n",
            "1/1 [==============================] - 0s 32ms/step\n",
            "Epoch 41, gen loss=1.6953562498092651,disc loss=1.0406478643417358, 0:00:35.15\n",
            "1/1 [==============================] - 0s 18ms/step\n",
            "Epoch 42, gen loss=1.5809028148651123,disc loss=1.108847737312317, 0:00:35.14\n",
            "1/1 [==============================] - 0s 18ms/step\n",
            "Epoch 43, gen loss=1.5684418678283691,disc loss=1.0920988321304321, 0:00:35.15\n",
            "1/1 [==============================] - 0s 29ms/step\n",
            "Epoch 44, gen loss=1.5793910026550293,disc loss=1.1018588542938232, 0:00:35.11\n",
            "1/1 [==============================] - 0s 18ms/step\n",
            "Epoch 45, gen loss=1.5685571432113647,disc loss=1.1011617183685303, 0:00:35.11\n",
            "1/1 [==============================] - 0s 24ms/step\n",
            "Epoch 46, gen loss=1.546717882156372,disc loss=1.1026380062103271, 0:00:35.16\n",
            "1/1 [==============================] - 0s 31ms/step\n",
            "Epoch 47, gen loss=1.5922256708145142,disc loss=1.0907691717147827, 0:00:35.12\n",
            "1/1 [==============================] - 0s 19ms/step\n",
            "Epoch 48, gen loss=1.5325872898101807,disc loss=1.1343342065811157, 0:00:35.10\n",
            "1/1 [==============================] - 0s 17ms/step\n",
            "Epoch 49, gen loss=1.5468875169754028,disc loss=1.122172236442566, 0:00:35.10\n",
            "1/1 [==============================] - 0s 19ms/step\n",
            "Epoch 50, gen loss=1.3726218938827515,disc loss=1.2063111066818237, 0:00:35.11\n",
            "1/1 [==============================] - 0s 18ms/step\n",
            "Epoch 51, gen loss=1.555001139640808,disc loss=1.0882681608200073, 0:00:35.10\n",
            "1/1 [==============================] - 0s 20ms/step\n",
            "Epoch 52, gen loss=1.486008882522583,disc loss=1.1458168029785156, 0:00:35.12\n",
            "1/1 [==============================] - 0s 18ms/step\n",
            "Epoch 53, gen loss=1.48337984085083,disc loss=1.070493221282959, 0:00:35.10\n",
            "1/1 [==============================] - 0s 19ms/step\n",
            "Epoch 54, gen loss=1.6049954891204834,disc loss=1.071705937385559, 0:00:35.10\n",
            "1/1 [==============================] - 0s 19ms/step\n",
            "Epoch 55, gen loss=1.5267823934555054,disc loss=1.0984218120574951, 0:00:35.15\n",
            "1/1 [==============================] - 0s 18ms/step\n",
            "Epoch 56, gen loss=1.5208922624588013,disc loss=1.0902265310287476, 0:00:35.11\n",
            "1/1 [==============================] - 0s 18ms/step\n",
            "Epoch 57, gen loss=1.5290961265563965,disc loss=1.091970443725586, 0:00:35.07\n",
            "1/1 [==============================] - 0s 19ms/step\n",
            "Epoch 58, gen loss=1.5684454441070557,disc loss=1.098669409751892, 0:00:35.10\n",
            "1/1 [==============================] - 0s 19ms/step\n",
            "Epoch 59, gen loss=1.530643343925476,disc loss=1.117588758468628, 0:00:35.10\n",
            "1/1 [==============================] - 0s 18ms/step\n",
            "Epoch 60, gen loss=1.5584765672683716,disc loss=1.0718995332717896, 0:00:35.09\n",
            "1/1 [==============================] - 0s 18ms/step\n",
            "Epoch 61, gen loss=1.450667142868042,disc loss=1.159475326538086, 0:00:35.15\n",
            "1/1 [==============================] - 0s 31ms/step\n",
            "Epoch 62, gen loss=1.4676082134246826,disc loss=1.155666708946228, 0:00:35.16\n",
            "1/1 [==============================] - 0s 21ms/step\n",
            "Epoch 63, gen loss=1.5507299900054932,disc loss=1.1043230295181274, 0:00:35.12\n",
            "1/1 [==============================] - 0s 19ms/step\n",
            "Epoch 64, gen loss=1.5131547451019287,disc loss=1.059478521347046, 0:00:35.06\n",
            "1/1 [==============================] - 0s 20ms/step\n",
            "Epoch 65, gen loss=1.5205192565917969,disc loss=1.0905530452728271, 0:00:35.01\n",
            "1/1 [==============================] - 0s 18ms/step\n",
            "Epoch 66, gen loss=1.5181009769439697,disc loss=1.1155827045440674, 0:00:34.94\n",
            "1/1 [==============================] - 0s 19ms/step\n",
            "Epoch 67, gen loss=1.441745400428772,disc loss=1.1661754846572876, 0:00:34.97\n",
            "1/1 [==============================] - 0s 18ms/step\n",
            "Epoch 68, gen loss=1.4923464059829712,disc loss=1.1061989068984985, 0:00:34.90\n",
            "1/1 [==============================] - 0s 18ms/step\n",
            "Epoch 69, gen loss=1.5368611812591553,disc loss=1.0851612091064453, 0:00:34.90\n",
            "1/1 [==============================] - 0s 17ms/step\n",
            "Epoch 70, gen loss=1.5614235401153564,disc loss=1.046636700630188, 0:00:34.96\n",
            "1/1 [==============================] - 0s 18ms/step\n",
            "Epoch 71, gen loss=1.5388163328170776,disc loss=1.1317483186721802, 0:00:34.93\n",
            "1/1 [==============================] - 0s 21ms/step\n",
            "Epoch 72, gen loss=1.602413535118103,disc loss=1.0342625379562378, 0:00:34.92\n",
            "1/1 [==============================] - 0s 29ms/step\n",
            "Epoch 73, gen loss=1.6229890584945679,disc loss=1.0618778467178345, 0:00:34.96\n",
            "1/1 [==============================] - 0s 30ms/step\n",
            "Epoch 74, gen loss=1.6045674085617065,disc loss=1.0545281171798706, 0:00:35.08\n",
            "1/1 [==============================] - 0s 19ms/step\n",
            "Epoch 75, gen loss=1.6306363344192505,disc loss=1.0395004749298096, 0:00:35.12\n",
            "1/1 [==============================] - 0s 18ms/step\n",
            "Epoch 76, gen loss=1.5974267721176147,disc loss=1.0818740129470825, 0:00:35.06\n",
            "1/1 [==============================] - 0s 19ms/step\n",
            "Epoch 77, gen loss=1.640205979347229,disc loss=1.0147275924682617, 0:00:35.01\n",
            "1/1 [==============================] - 0s 18ms/step\n",
            "Epoch 78, gen loss=1.6354399919509888,disc loss=1.0504392385482788, 0:00:34.96\n",
            "1/1 [==============================] - 0s 18ms/step\n",
            "Epoch 79, gen loss=1.6426711082458496,disc loss=1.045507550239563, 0:00:35.00\n",
            "1/1 [==============================] - 0s 32ms/step\n",
            "Epoch 80, gen loss=1.5265922546386719,disc loss=1.161188006401062, 0:00:34.94\n",
            "1/1 [==============================] - 0s 20ms/step\n",
            "Epoch 81, gen loss=1.5550098419189453,disc loss=1.0837368965148926, 0:00:34.91\n",
            "1/1 [==============================] - 0s 19ms/step\n",
            "Epoch 82, gen loss=1.567423939704895,disc loss=1.0581660270690918, 0:00:35.08\n",
            "1/1 [==============================] - 0s 27ms/step\n",
            "Epoch 83, gen loss=1.6291708946228027,disc loss=1.0349862575531006, 0:00:35.20\n",
            "1/1 [==============================] - 0s 33ms/step\n",
            "Epoch 84, gen loss=1.6494765281677246,disc loss=1.0199321508407593, 0:00:35.12\n",
            "1/1 [==============================] - 0s 22ms/step\n",
            "Epoch 85, gen loss=1.6665228605270386,disc loss=1.0301754474639893, 0:00:35.17\n",
            "1/1 [==============================] - 0s 32ms/step\n",
            "Epoch 86, gen loss=1.6976606845855713,disc loss=1.0245336294174194, 0:00:35.02\n",
            "1/1 [==============================] - 0s 18ms/step\n",
            "Epoch 87, gen loss=1.7251120805740356,disc loss=1.0194041728973389, 0:00:34.96\n",
            "1/1 [==============================] - 0s 18ms/step\n",
            "Epoch 88, gen loss=1.7134556770324707,disc loss=1.0152649879455566, 0:00:34.94\n",
            "1/1 [==============================] - 0s 28ms/step\n",
            "Epoch 89, gen loss=1.6990495920181274,disc loss=0.98653244972229, 0:00:34.90\n",
            "1/1 [==============================] - 0s 19ms/step\n",
            "Epoch 90, gen loss=1.7178304195404053,disc loss=1.0063039064407349, 0:00:34.89\n",
            "1/1 [==============================] - 0s 18ms/step\n",
            "Epoch 91, gen loss=1.7458813190460205,disc loss=1.0022952556610107, 0:00:35.00\n",
            "1/1 [==============================] - 0s 26ms/step\n",
            "Epoch 92, gen loss=1.6790902614593506,disc loss=1.0267062187194824, 0:00:34.97\n",
            "1/1 [==============================] - 0s 18ms/step\n",
            "Epoch 93, gen loss=1.7250571250915527,disc loss=0.9920009970664978, 0:00:35.04\n",
            "1/1 [==============================] - 0s 18ms/step\n",
            "Epoch 94, gen loss=1.7599278688430786,disc loss=0.9915739297866821, 0:00:35.08\n",
            "1/1 [==============================] - 0s 27ms/step\n",
            "Epoch 95, gen loss=1.702440857887268,disc loss=0.9998090267181396, 0:00:35.05\n",
            "1/1 [==============================] - 0s 19ms/step\n",
            "Epoch 96, gen loss=1.7654752731323242,disc loss=0.9828983545303345, 0:00:35.03\n",
            "1/1 [==============================] - 0s 18ms/step\n",
            "Epoch 97, gen loss=1.7791417837142944,disc loss=1.003596544265747, 0:00:35.10\n",
            "1/1 [==============================] - 0s 31ms/step\n",
            "Epoch 98, gen loss=1.7245184183120728,disc loss=1.0392110347747803, 0:00:35.06\n",
            "1/1 [==============================] - 0s 18ms/step\n",
            "Epoch 99, gen loss=1.7905430793762207,disc loss=0.952880859375, 0:00:35.05\n",
            "1/1 [==============================] - 0s 18ms/step\n",
            "Epoch 100, gen loss=1.8106764554977417,disc loss=0.9925904870033264, 0:00:35.09\n",
            "1/1 [==============================] - 0s 27ms/step\n",
            "Epoch 101, gen loss=1.6975908279418945,disc loss=1.0669808387756348, 0:00:35.04\n",
            "1/1 [==============================] - 0s 22ms/step\n",
            "Epoch 102, gen loss=1.785797357559204,disc loss=0.9632590413093567, 0:00:35.02\n",
            "1/1 [==============================] - 0s 19ms/step\n",
            "Epoch 103, gen loss=1.8015984296798706,disc loss=0.9704553484916687, 0:00:35.03\n",
            "1/1 [==============================] - 0s 32ms/step\n",
            "Epoch 104, gen loss=1.823500394821167,disc loss=0.9686146974563599, 0:00:35.03\n",
            "1/1 [==============================] - 0s 18ms/step\n",
            "Epoch 105, gen loss=1.8303523063659668,disc loss=0.9264976382255554, 0:00:35.00\n",
            "1/1 [==============================] - 0s 19ms/step\n",
            "Epoch 106, gen loss=1.9019856452941895,disc loss=0.9549012780189514, 0:00:35.00\n",
            "1/1 [==============================] - 0s 27ms/step\n",
            "Epoch 107, gen loss=1.8815321922302246,disc loss=0.9359585642814636, 0:00:35.03\n",
            "1/1 [==============================] - 0s 18ms/step\n",
            "Epoch 108, gen loss=1.8815513849258423,disc loss=0.9592476487159729, 0:00:34.98\n",
            "1/1 [==============================] - 0s 18ms/step\n",
            "Epoch 109, gen loss=1.8422986268997192,disc loss=0.9627782702445984, 0:00:34.99\n",
            "1/1 [==============================] - 0s 35ms/step\n",
            "Epoch 110, gen loss=1.869692087173462,disc loss=0.967557430267334, 0:00:35.01\n",
            "1/1 [==============================] - 0s 18ms/step\n",
            "Epoch 111, gen loss=1.9010850191116333,disc loss=0.9212183356285095, 0:00:34.96\n",
            "1/1 [==============================] - 0s 18ms/step\n",
            "Epoch 112, gen loss=1.9450972080230713,disc loss=0.9173247218132019, 0:00:35.00\n",
            "1/1 [==============================] - 0s 18ms/step\n",
            "Epoch 113, gen loss=1.916612982749939,disc loss=0.9683722853660583, 0:00:34.96\n",
            "1/1 [==============================] - 0s 22ms/step\n",
            "Epoch 114, gen loss=1.8933026790618896,disc loss=0.9466793537139893, 0:00:34.95\n",
            "1/1 [==============================] - 0s 20ms/step\n",
            "Epoch 115, gen loss=1.96658456325531,disc loss=0.9256080985069275, 0:00:34.96\n",
            "1/1 [==============================] - 0s 19ms/step\n",
            "Epoch 116, gen loss=1.964516520500183,disc loss=0.9039507508277893, 0:00:34.97\n",
            "1/1 [==============================] - 0s 19ms/step\n",
            "Epoch 117, gen loss=2.008427143096924,disc loss=0.8934636116027832, 0:00:35.02\n",
            "1/1 [==============================] - 0s 18ms/step\n",
            "Epoch 118, gen loss=2.126798391342163,disc loss=0.8738350868225098, 0:00:35.00\n",
            "1/1 [==============================] - 0s 18ms/step\n",
            "Epoch 119, gen loss=2.021813154220581,disc loss=0.8933650851249695, 0:00:34.97\n",
            "1/1 [==============================] - 0s 25ms/step\n",
            "Epoch 120, gen loss=2.000237226486206,disc loss=0.9126408100128174, 0:00:34.99\n",
            "1/1 [==============================] - 0s 18ms/step\n",
            "Epoch 121, gen loss=2.0005202293395996,disc loss=0.9126772284507751, 0:00:34.96\n",
            "1/1 [==============================] - 0s 19ms/step\n",
            "Epoch 122, gen loss=1.9859777688980103,disc loss=0.9147233963012695, 0:00:34.99\n",
            "1/1 [==============================] - 0s 18ms/step\n",
            "Epoch 123, gen loss=1.944138765335083,disc loss=0.9712117314338684, 0:00:34.97\n",
            "1/1 [==============================] - 0s 18ms/step\n",
            "Epoch 124, gen loss=2.0069804191589355,disc loss=0.9353514909744263, 0:00:35.00\n",
            "1/1 [==============================] - 0s 24ms/step\n",
            "Epoch 125, gen loss=1.9658396244049072,disc loss=0.9248746633529663, 0:00:35.03\n",
            "1/1 [==============================] - 0s 20ms/step\n",
            "Epoch 126, gen loss=1.9962682723999023,disc loss=0.8870360255241394, 0:00:35.03\n",
            "1/1 [==============================] - 0s 19ms/step\n",
            "Epoch 127, gen loss=2.0569965839385986,disc loss=0.8975034952163696, 0:00:35.02\n",
            "1/1 [==============================] - 0s 18ms/step\n",
            "Epoch 128, gen loss=2.0579118728637695,disc loss=0.8682752847671509, 0:00:34.98\n",
            "1/1 [==============================] - 0s 18ms/step\n",
            "Epoch 129, gen loss=2.111229181289673,disc loss=0.8999607563018799, 0:00:34.86\n",
            "1/1 [==============================] - 0s 30ms/step\n",
            "Epoch 130, gen loss=2.047037124633789,disc loss=0.9157395958900452, 0:00:34.86\n",
            "1/1 [==============================] - 0s 19ms/step\n",
            "Epoch 131, gen loss=2.114546060562134,disc loss=0.8678149580955505, 0:00:34.78\n",
            "1/1 [==============================] - 0s 18ms/step\n",
            "Epoch 132, gen loss=2.114610195159912,disc loss=0.8368692398071289, 0:00:34.87\n",
            "1/1 [==============================] - 0s 31ms/step\n",
            "Epoch 133, gen loss=2.140026330947876,disc loss=0.8611021041870117, 0:00:34.94\n",
            "1/1 [==============================] - 0s 21ms/step\n",
            "Epoch 134, gen loss=2.094980239868164,disc loss=0.8904501795768738, 0:00:34.97\n",
            "1/1 [==============================] - 0s 20ms/step\n"
          ]
        }
      ]
    },
    {
      "cell_type": "code",
      "source": [
        "generator.save(os.path.join(DATA_PATH,\"face_generator.h5\"))"
      ],
      "metadata": {
        "id": "Ult-y5MwAODJ"
      },
      "execution_count": null,
      "outputs": []
    },
    {
      "cell_type": "code",
      "source": [
        "# Generate images using the trained generator model\n",
        "noise = tf.random.normal([PREVIEW_ROWS * PREVIEW_COLS, SEED_SIZE])\n",
        "generated_images = generator.predict(noise)\n",
        "\n",
        "# Rescale images 0 - 1\n",
        "generated_images = 0.5 * generated_images + 0.5 \n",
        "\n",
        "# Plot the generated images\n",
        "fig, axes = plt.subplots(PREVIEW_ROWS, PREVIEW_COLS, figsize=(16, 9),\n",
        "                          subplot_kw={'xticks': [], 'yticks': []})\n",
        "\n",
        "for i, ax in enumerate(axes.flat):\n",
        "    ax.imshow(generated_images[i])\n",
        "    \n",
        "plt.show()"
      ],
      "metadata": {
        "id": "qguBJJBtAOGc"
      },
      "execution_count": null,
      "outputs": []
    }
  ]
}